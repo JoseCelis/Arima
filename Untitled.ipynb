{
 "cells": [
  {
   "cell_type": "code",
   "execution_count": 1,
   "metadata": {
    "collapsed": true
   },
   "outputs": [],
   "source": [
    "import rpy2.robjects as robjects\n",
    "from rpy2.robjects.packages import importr\n",
    "ts=robjects.r('ts')\n",
    "forecast=importr('forecast')"
   ]
  },
  {
   "cell_type": "code",
   "execution_count": 2,
   "metadata": {},
   "outputs": [
    {
     "name": "stderr",
     "output_type": "stream",
     "text": [
      "C:\\Users\\soloc\\Anaconda3\\lib\\site-packages\\ipykernel_launcher.py:7: FutureWarning: to_datetime is deprecated. Use pd.to_datetime(...)\n",
      "  import sys\n"
     ]
    }
   ],
   "source": [
    "import pandas as pd\n",
    "\n",
    "from rpy2.robjects import pandas2ri\n",
    "pandas2ri.activate()\n",
    "\n",
    "traindf=pd.read_csv('UKgas_R.csv',index_col=0)\n",
    "traindf.index=traindf.index.to_datetime()\n",
    "traindf.columns = [\"time\",\"Price\"]\n",
    "\n",
    "rdata=ts(traindf.Price.values,frequency=4)\n",
    "#fit=forecast.auto_arima(rdata)\n",
    "#forecast_output=forecast.forecast(fit,h=16,level=(95.0))"
   ]
  },
  {
   "cell_type": "code",
   "execution_count": 3,
   "metadata": {},
   "outputs": [
    {
     "data": {
      "text/html": [
       "<div>\n",
       "<style>\n",
       "    .dataframe thead tr:only-child th {\n",
       "        text-align: right;\n",
       "    }\n",
       "\n",
       "    .dataframe thead th {\n",
       "        text-align: left;\n",
       "    }\n",
       "\n",
       "    .dataframe tbody tr th {\n",
       "        vertical-align: top;\n",
       "    }\n",
       "</style>\n",
       "<table border=\"1\" class=\"dataframe\">\n",
       "  <thead>\n",
       "    <tr style=\"text-align: right;\">\n",
       "      <th></th>\n",
       "      <th>time</th>\n",
       "      <th>Price</th>\n",
       "    </tr>\n",
       "  </thead>\n",
       "  <tbody>\n",
       "    <tr>\n",
       "      <th>1970-01-01 00:00:00.000000001</th>\n",
       "      <td>1960.00</td>\n",
       "      <td>160.1</td>\n",
       "    </tr>\n",
       "    <tr>\n",
       "      <th>1970-01-01 00:00:00.000000002</th>\n",
       "      <td>1960.25</td>\n",
       "      <td>129.7</td>\n",
       "    </tr>\n",
       "    <tr>\n",
       "      <th>1970-01-01 00:00:00.000000003</th>\n",
       "      <td>1960.50</td>\n",
       "      <td>84.8</td>\n",
       "    </tr>\n",
       "    <tr>\n",
       "      <th>1970-01-01 00:00:00.000000004</th>\n",
       "      <td>1960.75</td>\n",
       "      <td>120.1</td>\n",
       "    </tr>\n",
       "    <tr>\n",
       "      <th>1970-01-01 00:00:00.000000005</th>\n",
       "      <td>1961.00</td>\n",
       "      <td>160.1</td>\n",
       "    </tr>\n",
       "  </tbody>\n",
       "</table>\n",
       "</div>"
      ],
      "text/plain": [
       "                                  time  Price\n",
       "1970-01-01 00:00:00.000000001  1960.00  160.1\n",
       "1970-01-01 00:00:00.000000002  1960.25  129.7\n",
       "1970-01-01 00:00:00.000000003  1960.50   84.8\n",
       "1970-01-01 00:00:00.000000004  1960.75  120.1\n",
       "1970-01-01 00:00:00.000000005  1961.00  160.1"
      ]
     },
     "execution_count": 3,
     "metadata": {},
     "output_type": "execute_result"
    }
   ],
   "source": [
    "traindf.head(5)"
   ]
  },
  {
   "cell_type": "code",
   "execution_count": 4,
   "metadata": {
    "collapsed": true
   },
   "outputs": [],
   "source": [
    "rstring=\"\"\"\n",
    "    function(testdata){\n",
    "        library(forecast)\n",
    "        fitted_model<-auto.arima(testdata)\n",
    "        forecasted_data<-forecast(fitted_model,h=16,level=c(95))\n",
    "        outdf<-data.frame(forecasted_data$mean,forecasted_data$lower,forecasted_data$upper)\n",
    "        colnames(outdf)<-c('forecast','lower_95_pi','upper_95_pi')\n",
    "        outdf\n",
    "    }\n",
    "\"\"\"\n",
    "rfunc=robjects.r(rstring)\n",
    "\n",
    "rdata=ts(traindf.Price.values,frequency=4)\n",
    "r_df=rfunc(rdata)"
   ]
  },
  {
   "cell_type": "code",
   "execution_count": 5,
   "metadata": {},
   "outputs": [
    {
     "name": "stderr",
     "output_type": "stream",
     "text": [
      "C:\\Users\\soloc\\Anaconda3\\lib\\site-packages\\pandas\\core\\indexes\\datetimes.py:522: UserWarning: Discarding nonzero nanoseconds in conversion\n",
      "  index = _generate_regular_range(start, end, periods, offset)\n"
     ]
    },
    {
     "data": {
      "text/html": [
       "<div>\n",
       "<style>\n",
       "    .dataframe thead tr:only-child th {\n",
       "        text-align: right;\n",
       "    }\n",
       "\n",
       "    .dataframe thead th {\n",
       "        text-align: left;\n",
       "    }\n",
       "\n",
       "    .dataframe tbody tr th {\n",
       "        vertical-align: top;\n",
       "    }\n",
       "</style>\n",
       "<table border=\"1\" class=\"dataframe\">\n",
       "  <thead>\n",
       "    <tr style=\"text-align: right;\">\n",
       "      <th></th>\n",
       "      <th>forecast</th>\n",
       "      <th>lower_95_pi</th>\n",
       "      <th>upper_95_pi</th>\n",
       "    </tr>\n",
       "  </thead>\n",
       "  <tbody>\n",
       "    <tr>\n",
       "      <th>1970-04-01</th>\n",
       "      <td>1201.895643</td>\n",
       "      <td>1132.969980</td>\n",
       "      <td>1270.821305</td>\n",
       "    </tr>\n",
       "    <tr>\n",
       "      <th>1970-07-01</th>\n",
       "      <td>651.095643</td>\n",
       "      <td>581.999757</td>\n",
       "      <td>720.191529</td>\n",
       "    </tr>\n",
       "    <tr>\n",
       "      <th>1970-10-01</th>\n",
       "      <td>385.395643</td>\n",
       "      <td>316.129953</td>\n",
       "      <td>454.661333</td>\n",
       "    </tr>\n",
       "    <tr>\n",
       "      <th>1971-01-01</th>\n",
       "      <td>820.795643</td>\n",
       "      <td>751.360563</td>\n",
       "      <td>890.230723</td>\n",
       "    </tr>\n",
       "    <tr>\n",
       "      <th>1971-04-01</th>\n",
       "      <td>1239.891286</td>\n",
       "      <td>1138.581601</td>\n",
       "      <td>1341.200971</td>\n",
       "    </tr>\n",
       "  </tbody>\n",
       "</table>\n",
       "</div>"
      ],
      "text/plain": [
       "               forecast  lower_95_pi  upper_95_pi\n",
       "1970-04-01  1201.895643  1132.969980  1270.821305\n",
       "1970-07-01   651.095643   581.999757   720.191529\n",
       "1970-10-01   385.395643   316.129953   454.661333\n",
       "1971-01-01   820.795643   751.360563   890.230723\n",
       "1971-04-01  1239.891286  1138.581601  1341.200971"
      ]
     },
     "execution_count": 5,
     "metadata": {},
     "output_type": "execute_result"
    }
   ],
   "source": [
    "forecast_df=pandas2ri.ri2py(r_df)\n",
    "forecast_df.index=pd.date_range(start=traindf.index.max(),periods=len(forecast_df)+1,freq='QS')[1:]\n",
    "\n",
    "forecast_df.head(5)"
   ]
  },
  {
   "cell_type": "code",
   "execution_count": 6,
   "metadata": {},
   "outputs": [
    {
     "data": {
      "text/plain": [
       "<matplotlib.collections.PolyCollection at 0x27a33e81630>"
      ]
     },
     "execution_count": 6,
     "metadata": {},
     "output_type": "execute_result"
    },
    {
     "data": {
      "image/png": "[encoded data removed]",
      "text/plain": [
       "<matplotlib.figure.Figure at 0x27a33b36a58>"
      ]
     },
     "metadata": {},
     "output_type": "display_data"
    }
   ],
   "source": [
    "import matplotlib.pyplot as plt\n",
    "%matplotlib inline\n",
    "fig=plt.figure(figsize=(16, 7));\n",
    "ax=plt.axes()\n",
    "ax.plot(traindf.Price.index,traindf.Price.values,color='blue',alpha=0.5)\n",
    "ax.plot(forecast_df.index,forecast_df.forecast.values,color='red')\n",
    "ax.fill_between(forecast_df.index,\n",
    "                      forecast_df['lower_95_pi'],\n",
    "                      forecast_df['upper_95_pi'],\n",
    "                      alpha=0.2,color='red')"
   ]
  },
  {
   "cell_type": "code",
   "execution_count": null,
   "metadata": {
    "collapsed": true
   },
   "outputs": [],
   "source": []
  },
  {
   "cell_type": "code",
   "execution_count": null,
   "metadata": {
    "collapsed": true
   },
   "outputs": [],
   "source": []
  },
  {
   "cell_type": "code",
   "execution_count": null,
   "metadata": {
    "collapsed": true
   },
   "outputs": [],
   "source": []
  },
  {
   "cell_type": "code",
   "execution_count": 13,
   "metadata": {
    "collapsed": true
   },
   "outputs": [],
   "source": [
    "import rpy2.robjects as robjects\n",
    "from rpy2.robjects.packages import importr\n",
    "ts=robjects.r('ts')\n",
    "forecast=importr('forecast')"
   ]
  },
  {
   "cell_type": "code",
   "execution_count": 14,
   "metadata": {
    "collapsed": true
   },
   "outputs": [],
   "source": [
    "import pandas as pd\n",
    "from rpy2.robjects import pandas2ri\n",
    "pandas2ri.activate()"
   ]
  },
  {
   "cell_type": "code",
   "execution_count": 15,
   "metadata": {
    "collapsed": true
   },
   "outputs": [],
   "source": [
    "import matplotlib.pyplot as plt\n",
    "%matplotlib inline"
   ]
  },
  {
   "cell_type": "code",
   "execution_count": 16,
   "metadata": {},
   "outputs": [],
   "source": [
    "booking=pd.read_excel('bookings.csv',index_col=0)"
   ]
  },
  {
   "cell_type": "code",
   "execution_count": 17,
   "metadata": {},
   "outputs": [],
   "source": [
    "look_up = {'Jan':'01', 'Feb':'02' , 'Mar':'03', 'Apr':'04', 'May':'05','Jun':'06', 'Jul':'07', 'Aug':'08', 'Sep':'09', 'Oct':'10', 'Nov':'11', 'Dec':'12'}\n",
    "booking['Month'] = booking['Month'].apply(lambda x: look_up[x])"
   ]
  },
  {
   "cell_type": "code",
   "execution_count": 18,
   "metadata": {},
   "outputs": [],
   "source": [
    "booking[\"date\"] = booking.index.map(str) + \"-\"+booking[\"Month\"]\n",
    "booking.date = pd.to_datetime(booking.date)\n",
    "booking = booking.set_index(\"date\")\n",
    "booking.drop(\"Month\", axis=1, inplace=True)"
   ]
  },
  {
   "cell_type": "code",
   "execution_count": 19,
   "metadata": {},
   "outputs": [
    {
     "data": {
      "text/html": [
       "<div>\n",
       "<style>\n",
       "    .dataframe thead tr:only-child th {\n",
       "        text-align: right;\n",
       "    }\n",
       "\n",
       "    .dataframe thead th {\n",
       "        text-align: left;\n",
       "    }\n",
       "\n",
       "    .dataframe tbody tr th {\n",
       "        vertical-align: top;\n",
       "    }\n",
       "</style>\n",
       "<table border=\"1\" class=\"dataframe\">\n",
       "  <thead>\n",
       "    <tr style=\"text-align: right;\">\n",
       "      <th></th>\n",
       "      <th>Bookings</th>\n",
       "    </tr>\n",
       "    <tr>\n",
       "      <th>date</th>\n",
       "      <th></th>\n",
       "    </tr>\n",
       "  </thead>\n",
       "  <tbody>\n",
       "    <tr>\n",
       "      <th>2015-08-01</th>\n",
       "      <td>18478</td>\n",
       "    </tr>\n",
       "    <tr>\n",
       "      <th>2015-09-01</th>\n",
       "      <td>12004</td>\n",
       "    </tr>\n",
       "    <tr>\n",
       "      <th>2015-10-01</th>\n",
       "      <td>9789</td>\n",
       "    </tr>\n",
       "    <tr>\n",
       "      <th>2015-11-01</th>\n",
       "      <td>10003</td>\n",
       "    </tr>\n",
       "    <tr>\n",
       "      <th>2015-12-01</th>\n",
       "      <td>13304</td>\n",
       "    </tr>\n",
       "  </tbody>\n",
       "</table>\n",
       "</div>"
      ],
      "text/plain": [
       "            Bookings\n",
       "date                \n",
       "2015-08-01     18478\n",
       "2015-09-01     12004\n",
       "2015-10-01      9789\n",
       "2015-11-01     10003\n",
       "2015-12-01     13304"
      ]
     },
     "execution_count": 19,
     "metadata": {},
     "output_type": "execute_result"
    }
   ],
   "source": [
    "booking.tail()"
   ]
  },
  {
   "cell_type": "code",
   "execution_count": 20,
   "metadata": {},
   "outputs": [
    {
     "data": {
      "text/plain": [
       "<matplotlib.axes._subplots.AxesSubplot at 0x18952450da0>"
      ]
     },
     "execution_count": 20,
     "metadata": {},
     "output_type": "execute_result"
    },
    {
     "data": {
      "image/png": "[encoded data removed]",
      "text/plain": [
       "<matplotlib.figure.Figure at 0x18952450080>"
      ]
     },
     "metadata": {},
     "output_type": "display_data"
    }
   ],
   "source": [
    "booking.plot()"
   ]
  },
  {
   "cell_type": "code",
   "execution_count": 21,
   "metadata": {},
   "outputs": [
    {
     "data": {
      "text/html": [
       "<div>\n",
       "<style>\n",
       "    .dataframe thead tr:only-child th {\n",
       "        text-align: right;\n",
       "    }\n",
       "\n",
       "    .dataframe thead th {\n",
       "        text-align: left;\n",
       "    }\n",
       "\n",
       "    .dataframe tbody tr th {\n",
       "        vertical-align: top;\n",
       "    }\n",
       "</style>\n",
       "<table border=\"1\" class=\"dataframe\">\n",
       "  <thead>\n",
       "    <tr style=\"text-align: right;\">\n",
       "      <th></th>\n",
       "      <th>Bookings</th>\n",
       "    </tr>\n",
       "    <tr>\n",
       "      <th>date</th>\n",
       "      <th></th>\n",
       "    </tr>\n",
       "  </thead>\n",
       "  <tbody>\n",
       "    <tr>\n",
       "      <th>2006-01-01</th>\n",
       "      <td>383</td>\n",
       "    </tr>\n",
       "    <tr>\n",
       "      <th>2006-02-01</th>\n",
       "      <td>366</td>\n",
       "    </tr>\n",
       "    <tr>\n",
       "      <th>2006-03-01</th>\n",
       "      <td>250</td>\n",
       "    </tr>\n",
       "    <tr>\n",
       "      <th>2006-04-01</th>\n",
       "      <td>318</td>\n",
       "    </tr>\n",
       "  </tbody>\n",
       "</table>\n",
       "</div>"
      ],
      "text/plain": [
       "            Bookings\n",
       "date                \n",
       "2006-01-01       383\n",
       "2006-02-01       366\n",
       "2006-03-01       250\n",
       "2006-04-01       318"
      ]
     },
     "execution_count": 21,
     "metadata": {},
     "output_type": "execute_result"
    }
   ],
   "source": [
    "booking.head(4)"
   ]
  },
  {
   "cell_type": "code",
   "execution_count": 22,
   "metadata": {
    "collapsed": true
   },
   "outputs": [],
   "source": [
    "rdata=ts(booking.Bookings.values,frequency=12)"
   ]
  },
  {
   "cell_type": "code",
   "execution_count": 64,
   "metadata": {},
   "outputs": [],
   "source": [
    "rstring=\"\"\"\n",
    "    function(testdata){\n",
    "        library(forecast)\n",
    "        fitted_model<-ets(testdata,model=\"MMM\")\n",
    "        forecasted_data<-forecast(fitted_model,h=12,level=c(95))\n",
    "        outdf<-data.frame(forecasted_data$mean,forecasted_data$lower,forecasted_data$upper)\n",
    "        colnames(outdf)<-c('forecast','lower_95_pi','upper_95_pi')\n",
    "        outdf\n",
    "    }\n",
    "\"\"\"\n",
    "rfunc=robjects.r(rstring)\n",
    "\n",
    "rdata=ts(booking.Bookings.values,frequency=12)\n",
    "r_df=rfunc(rdata)"
   ]
  },
  {
   "cell_type": "code",
   "execution_count": 65,
   "metadata": {},
   "outputs": [
    {
     "data": {
      "text/html": [
       "<div>\n",
       "<style>\n",
       "    .dataframe thead tr:only-child th {\n",
       "        text-align: right;\n",
       "    }\n",
       "\n",
       "    .dataframe thead th {\n",
       "        text-align: left;\n",
       "    }\n",
       "\n",
       "    .dataframe tbody tr th {\n",
       "        vertical-align: top;\n",
       "    }\n",
       "</style>\n",
       "<table border=\"1\" class=\"dataframe\">\n",
       "  <thead>\n",
       "    <tr style=\"text-align: right;\">\n",
       "      <th></th>\n",
       "      <th>forecast</th>\n",
       "      <th>lower_95_pi</th>\n",
       "      <th>upper_95_pi</th>\n",
       "    </tr>\n",
       "  </thead>\n",
       "  <tbody>\n",
       "    <tr>\n",
       "      <th>2016-01-31</th>\n",
       "      <td>19761.571384</td>\n",
       "      <td>14119.446777</td>\n",
       "      <td>25340.183288</td>\n",
       "    </tr>\n",
       "    <tr>\n",
       "      <th>2016-02-29</th>\n",
       "      <td>14947.339405</td>\n",
       "      <td>10479.961586</td>\n",
       "      <td>19457.303744</td>\n",
       "    </tr>\n",
       "    <tr>\n",
       "      <th>2016-03-31</th>\n",
       "      <td>12026.019138</td>\n",
       "      <td>8334.694636</td>\n",
       "      <td>16002.946699</td>\n",
       "    </tr>\n",
       "    <tr>\n",
       "      <th>2016-04-30</th>\n",
       "      <td>9671.905283</td>\n",
       "      <td>6632.549631</td>\n",
       "      <td>12927.539601</td>\n",
       "    </tr>\n",
       "    <tr>\n",
       "      <th>2016-05-31</th>\n",
       "      <td>11347.964007</td>\n",
       "      <td>7698.706133</td>\n",
       "      <td>15455.775251</td>\n",
       "    </tr>\n",
       "    <tr>\n",
       "      <th>2016-06-30</th>\n",
       "      <td>15854.062069</td>\n",
       "      <td>10496.344938</td>\n",
       "      <td>21884.151578</td>\n",
       "    </tr>\n",
       "    <tr>\n",
       "      <th>2016-07-31</th>\n",
       "      <td>18917.089763</td>\n",
       "      <td>12333.365197</td>\n",
       "      <td>26614.807792</td>\n",
       "    </tr>\n",
       "    <tr>\n",
       "      <th>2016-08-31</th>\n",
       "      <td>22684.906384</td>\n",
       "      <td>14835.867276</td>\n",
       "      <td>31964.790748</td>\n",
       "    </tr>\n",
       "    <tr>\n",
       "      <th>2016-09-30</th>\n",
       "      <td>13662.054528</td>\n",
       "      <td>8598.411212</td>\n",
       "      <td>19520.997889</td>\n",
       "    </tr>\n",
       "    <tr>\n",
       "      <th>2016-10-31</th>\n",
       "      <td>11070.768170</td>\n",
       "      <td>7020.151143</td>\n",
       "      <td>16005.145042</td>\n",
       "    </tr>\n",
       "    <tr>\n",
       "      <th>2016-11-30</th>\n",
       "      <td>9769.135108</td>\n",
       "      <td>6095.691097</td>\n",
       "      <td>14205.278849</td>\n",
       "    </tr>\n",
       "    <tr>\n",
       "      <th>2016-12-31</th>\n",
       "      <td>14429.720963</td>\n",
       "      <td>9048.141955</td>\n",
       "      <td>21136.845250</td>\n",
       "    </tr>\n",
       "  </tbody>\n",
       "</table>\n",
       "</div>"
      ],
      "text/plain": [
       "                forecast   lower_95_pi   upper_95_pi\n",
       "2016-01-31  19761.571384  14119.446777  25340.183288\n",
       "2016-02-29  14947.339405  10479.961586  19457.303744\n",
       "2016-03-31  12026.019138   8334.694636  16002.946699\n",
       "2016-04-30   9671.905283   6632.549631  12927.539601\n",
       "2016-05-31  11347.964007   7698.706133  15455.775251\n",
       "2016-06-30  15854.062069  10496.344938  21884.151578\n",
       "2016-07-31  18917.089763  12333.365197  26614.807792\n",
       "2016-08-31  22684.906384  14835.867276  31964.790748\n",
       "2016-09-30  13662.054528   8598.411212  19520.997889\n",
       "2016-10-31  11070.768170   7020.151143  16005.145042\n",
       "2016-11-30   9769.135108   6095.691097  14205.278849\n",
       "2016-12-31  14429.720963   9048.141955  21136.845250"
      ]
     },
     "execution_count": 65,
     "metadata": {},
     "output_type": "execute_result"
    }
   ],
   "source": [
    "forecast_df=pandas2ri.ri2py(r_df)\n",
    "forecast_df.index=pd.date_range(start=booking.index.max(),periods=len(forecast_df)+1,freq='M')[1:]\n",
    "\n",
    "forecast_df"
   ]
  },
  {
   "cell_type": "code",
   "execution_count": 66,
   "metadata": {
    "scrolled": false
   },
   "outputs": [
    {
     "data": {
      "text/plain": [
       "<matplotlib.collections.PolyCollection at 0x1895ac63cf8>"
      ]
     },
     "execution_count": 66,
     "metadata": {},
     "output_type": "execute_result"
    },
    {
     "data": {
      "image/png": "[encoded data removed]",
      "text/plain": [
       "<matplotlib.figure.Figure at 0x1895975c320>"
      ]
     },
     "metadata": {},
     "output_type": "display_data"
    }
   ],
   "source": [
    "fig=plt.figure(figsize=(16, 7));\n",
    "ax=plt.axes()\n",
    "ax.plot(booking.Bookings.index,booking.Bookings.values,color='blue',alpha=0.5)\n",
    "ax.plot(forecast_df.index,forecast_df.forecast.values,color='red')\n",
    "ax.fill_between(forecast_df.index,\n",
    "                      forecast_df['lower_95_pi'],\n",
    "                      forecast_df['upper_95_pi'],\n",
    "                      alpha=0.2,color='red')"
   ]
  },
  {
   "cell_type": "code",
   "execution_count": null,
   "metadata": {
    "collapsed": true
   },
   "outputs": [],
   "source": []
  },
  {
   "cell_type": "code",
   "execution_count": null,
   "metadata": {
    "collapsed": true
   },
   "outputs": [],
   "source": []
  },
  {
   "cell_type": "code",
   "execution_count": null,
   "metadata": {
    "collapsed": true
   },
   "outputs": [],
   "source": []
  },
  {
   "cell_type": "code",
   "execution_count": null,
   "metadata": {
    "collapsed": true
   },
   "outputs": [],
   "source": []
  }
 ],
 "metadata": {
  "kernelspec": {
   "display_name": "Python 3",
   "language": "python",
   "name": "python3"
  },
  "language_info": {
   "codemirror_mode": {
    "name": "ipython",
    "version": 3
   },
   "file_extension": ".py",
   "mimetype": "text/x-python",
   "name": "python",
   "nbconvert_exporter": "python",
   "pygments_lexer": "ipython3",
   "version": "3.6.1"
  }
 },
 "nbformat": 4,
 "nbformat_minor": 2
}
